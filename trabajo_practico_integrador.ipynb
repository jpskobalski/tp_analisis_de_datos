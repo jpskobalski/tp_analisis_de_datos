{
 "cells": [
  {
   "metadata": {},
   "cell_type": "markdown",
   "source": "# Trabajo Práctico Integrador - Analisis de Datos",
   "id": "1eae82a48eb74628"
  },
  {
   "metadata": {},
   "cell_type": "markdown",
   "source": [
    "## Introducción\n",
    "En este trabajo práctico, aplicamos las técnicas vistas en clase con un objetivo claro: explorar, limpiar y preparar un conjunto de datos reales. El fin último es sentar las bases para plantear un problema de aprendizaje supervisado.\n",
    "\n",
    "### Nuestro Equipo:\n",
    "- Maximiliano Christener\n",
    "- Luiz Diaz Charris\n",
    "- Mariano Fagre\n",
    "- Juan Pablo Skobalski\n",
    "- Ronald Uthurralt\n",
    "\n",
    "### El Dataset:\n",
    "Para este análisis, seleccionamos el UCDP Georeferenced Event Dataset (GED) Global versión 25.1, un set de datos provisto por el Uppsala Conflict Data Program (UCDP).\n",
    "\n",
    "Elegimos este conjunto de datos por su gran detalle. Contiene información georreferenciada sobre eventos de violencia organizada que han ocurrido en todo el mundo desde 1989. Cada registro no es solo un número, sino que representa un evento violento individual, describiendo su fecha, ubicación precisa (latitud y longitud), el tipo de violencia (conflicto estatal, no estatal o unilateral), quiénes fueron los actores involucrados y una estimación de las víctimas fatales, entre otros atributos.\n",
    "\n",
    "Lo valioso de estos datos es que nos permiten explorar fenómenos muy complejos, como los conflictos armados y la violencia política, desde dos ángulos clave: temporalmente (cómo ha evolucionado la violencia) y espacialmente (dónde se concentran).\n",
    "\n",
    "## Nuestra Hipótesis y Objetivos\n",
    "Tras una primera exploración de los datos, formulamos la siguiente hipótesis de trabajo:\n",
    "\n",
    "### DISUCTAMOS SI CORRESPONDE O NO, SOLO LO ESCRIBO CON EL OBJETIVO DE ESTRUCTURAR EL DOCUMENTO\n",
    "Hipótesis: Creemos que ciertos factores estructurales, como el tipo de violencia, la región geográfica y los actores involucrados, influyen de manera significativa en el nivel de letalidad (es decir, la cantidad de víctimas fatales) de un conflicto.\n",
    "\n",
    "Basados en esta idea, nuestros objetivos para este trabajo son:\n",
    "\n",
    "1. Analizar las características generales del dataset, entendiendo su distribución tanto geográfica como temporal.\n",
    "\n",
    "2. Identificar si existen patrones de violencia claros según el tipo de evento, la región o los actores.\n",
    "\n",
    "3. Preparar el conjunto de datos para un posible modelo de aprendizaje supervisado. Aquí, nuestra variable objetivo será best_est (la cantidad estimada de víctimas), con la que buscaremos predecir la letalidad de un evento basándonos en sus características.\n",
    "\n"
   ],
   "id": "4b5242e40c26f87c"
  },
  {
   "metadata": {},
   "cell_type": "markdown",
   "source": "## Exploración y comprensión de los datos",
   "id": "30068cfa06e800f1"
  },
  {
   "metadata": {},
   "cell_type": "code",
   "source": [
    "import pandas as pd\n",
    "import matplotlib.pyplot as plt\n",
    "import seaborn as sns\n",
    "\n",
    "#Esta libreria son para el heat map, me parecio copada, pero puede haber otras\n",
    "import folium\n",
    "from folium.plugins import HeatMap"
   ],
   "id": "b2c16837835e674f",
   "outputs": [],
   "execution_count": null
  },
  {
   "metadata": {},
   "cell_type": "code",
   "source": [
    "df = pd.read_csv(\"data/GEDEvent_v25_1.csv\", low_memory=False)\n",
    "\n",
    "df.head()"
   ],
   "id": "1a043048d05422fa",
   "outputs": [],
   "execution_count": null
  },
  {
   "metadata": {},
   "cell_type": "code",
   "source": [
    "print(f\"Número de observaciones: {df.shape[0]}\")\n",
    "print(f\"Número de variables: {df.shape[1]}\")\n",
    "\n",
    "df.info()"
   ],
   "id": "7e4c99ed9b581fd",
   "outputs": [],
   "execution_count": null
  },
  {
   "metadata": {},
   "cell_type": "markdown",
   "source": [
    "## Descripción de las columnas del dataset UCDP GED v25.1 (LAS DESCRIPCIONES LAS HICE CON EL CHATO, VEAMOSLAS JUNTOS EN DETALLE)\n",
    "\n",
    "| **Columna** | **Descripción** |\n",
    "|--------------|----------------|\n",
    "| **id** | Identificador único del evento. |\n",
    "| **relid** | ID del evento dentro de su conflicto (relación interna). |\n",
    "| **year** | Año en que ocurrió el evento. |\n",
    "| **active_year** | Indica si el conflicto estuvo activo ese año (`True/False`). |\n",
    "| **code_status** | Estado del registro (ej. “Clear” o “Unclear”). |\n",
    "| **type_of_violence** | Tipo de violencia (1 = interestatal, 2 = no estatal, 3 = unidireccional). |\n",
    "| **conflict_dset_id** | ID interno del conflicto dentro del dataset. |\n",
    "| **conflict_new_id** | Versión nueva del ID del conflicto. |\n",
    "| **conflict_name** | Nombre del conflicto (ej. “Afghanistan: Government”). |\n",
    "| **dyad_dset_id** | ID de la díada (par de actores enfrentados). |\n",
    "| **dyad_new_id** | ID actualizado de la díada. |\n",
    "| **dyad_name** | Nombres de los actores enfrentados. |\n",
    "| **side_a_dset_id** | ID interno del actor A. |\n",
    "| **side_a_new_id** | ID nuevo del actor A. |\n",
    "| **side_a** | Nombre del actor A (ej. “Government of Iraq”). |\n",
    "| **side_b_dset_id** | ID interno del actor B. |\n",
    "| **side_b_new_id** | ID nuevo del actor B. |\n",
    "| **side_b** | Nombre del actor B (ej. “IS”). |\n",
    "| **number_of_sources** | Número de fuentes utilizadas para registrar el evento. |\n",
    "| **source_article** | Texto con los artículos fuente. |\n",
    "| **source_office** | Fuente institucional (ej. Reuters, AFP). |\n",
    "| **source_date** | Fecha de las fuentes. |\n",
    "| **source_headline** | Título de las noticias fuente. |\n",
    "| **source_original** | Fuente original o primaria. |\n",
    "| **where_prec** | Precisión del lugar (1 = exacta, >1 = aproximada). |\n",
    "| **where_coordinates** | Coordenadas como texto. |\n",
    "| **where_description** | Descripción textual del lugar. |\n",
    "| **adm_1** | División administrativa 1 (provincia, estado). |\n",
    "| **adm_2** | División administrativa 2 (distrito, municipio). |\n",
    "| **latitude** | Latitud del evento. |\n",
    "| **longitude** | Longitud del evento. |\n",
    "| **geom_wkt** | Geometría en formato WKT (texto). |\n",
    "| **priogrid_gid** | ID de celda de grilla espacial PRIO. |\n",
    "| **country** | País donde ocurrió el evento. |\n",
    "| **country_id** | Código numérico del país. |\n",
    "| **region** | Región geográfica (ej. Asia, África). |\n",
    "| **event_clarity** | Nivel de claridad o precisión del evento (1 = claro, >1 = incierto). |\n",
    "| **date_prec** | Precisión temporal (1 = exacta, valores mayores = más incierto). |\n",
    "| **date_start** | Fecha de inicio del evento. |\n",
    "| **date_end** | Fecha de fin del evento. |\n",
    "| **deaths_a** | Muertes del actor A. |\n",
    "| **deaths_b** | Muertes del actor B. |\n",
    "| **deaths_civilians** | Muertes de civiles. |\n",
    "| **deaths_unknown** | Muertes sin categoría asignada. |\n",
    "| **best** | Estimación principal de muertes totales. |\n",
    "| **high** | Estimación alta de muertes totales. |\n",
    "| **low** | Estimación baja de muertes totales. |\n",
    "| **gwnoa** | Código numérico del país del actor A. |\n",
    "| **gwnob** | Código numérico del país del actor B. |\n",
    "\n",
    "\n",
    "# EN MI OPINION ESTAS COLUMNAS VOLEMOSLAS (no les veo utilidad):\n",
    "\n",
    "[\n",
    " 'relid', 'conflict_dset_id', 'conflict_new_id',\n",
    " 'dyad_dset_id', 'dyad_new_id',\n",
    " 'side_a_dset_id', 'side_a_new_id',\n",
    " 'side_b_dset_id', 'side_b_new_id',\n",
    " 'source_article', 'source_date', 'source_headline', 'source_original',\n",
    " 'where_coordinates', 'geom_wkt', 'priogrid_gid',\n",
    " 'country_id', 'gwnoa', 'gwnob'\n",
    "]\n",
    "\n",
    "# Esto para la parte de limpieza"
   ],
   "id": "750dfe7c51dfccaf"
  },
  {
   "metadata": {},
   "cell_type": "markdown",
   "source": [
    "### Tipos de Violencia\n",
    "\n",
    "En la pagina de donde se obtuvieron los datos se expresa que los tipos de violencia se correlacionan de esta manera con los valores 1, 2 y 3:\n",
    "| **Código** | **Tipo de violencia**     | **Descripción** |\n",
    "|:-----------:|:--------------------------|:----------------|\n",
    "| **1** | State-based conflict | Conflictos en los que al menos una de las partes es el gobierno de un Estado (por ejemplo, guerras civiles o interestatales). |\n",
    "| **2** | Non-state conflict | Enfrentamientos armados entre grupos organizados no estatales, sin participación directa de un gobierno (por ejemplo, milicias rivales o grupos étnicos armados). |\n",
    "| **3** | One-sided violence | Violencia dirigida contra civiles, perpetrada por un gobierno o por un grupo armado organizado (por ejemplo, masacres, represión violenta). |"
   ],
   "id": "c6be4b43bae16de5"
  },
  {
   "metadata": {},
   "cell_type": "code",
   "source": [
    "df.describe()\n",
    "\n",
    "df[\"type_of_violence\"].value_counts()\n",
    "\n",
    "# creamos el mapping\n",
    "violence_mapping = {\n",
    "    1: \"State-based conflict\",\n",
    "    2: \"Non-state conflict\",\n",
    "    3: \"One-sided violence\"\n",
    "}\n",
    "\n",
    "df[\"type_of_violence_desc\"] = df[\"type_of_violence\"].map(violence_mapping)"
   ],
   "id": "5fd0da391bdf645b",
   "outputs": [],
   "execution_count": null
  },
  {
   "metadata": {},
   "cell_type": "code",
   "source": [
    "missing = df.isnull().mean().sort_values(ascending=False)\n",
    "missing[missing > 0].head(20)"
   ],
   "id": "3f836f98724f3cf3",
   "outputs": [],
   "execution_count": null
  },
  {
   "metadata": {},
   "cell_type": "code",
   "source": [
    "# Con este grafico podemos detectar outliers\n",
    "plt.figure(figsize=(6,4))\n",
    "df.boxplot(column=\"best\")\n",
    "plt.title(\"Distribución de muertes estimadas por evento (best)\")\n",
    "plt.show()"
   ],
   "id": "7fee22a42b2c45db",
   "outputs": [],
   "execution_count": null
  },
  {
   "metadata": {},
   "cell_type": "markdown",
   "source": [
    "## Aplicación de técnicas de visualización\n",
    "\n",
    "### Distribución temporal de los eventos"
   ],
   "id": "8514f3a11c8d5a82"
  },
  {
   "metadata": {},
   "cell_type": "code",
   "source": [
    "sns.set_theme(style=\"whitegrid\", palette=\"muted\")\n",
    "\n",
    "plt.figure(figsize=(12,5))\n",
    "sns.countplot(x=\"year\", data=df, color=\"steelblue\")\n",
    "plt.xticks(rotation=90)\n",
    "plt.title(\"Distribución de eventos de violencia por año\")\n",
    "plt.xlabel(\"Año\")\n",
    "plt.ylabel(\"Cantidad de eventos\")\n",
    "plt.show()"
   ],
   "id": "ef2beb9906172cef",
   "outputs": [],
   "execution_count": null
  },
  {
   "metadata": {},
   "cell_type": "markdown",
   "source": "### Distribución por tipo de violencia",
   "id": "8d3ecf69c3937e8f"
  },
  {
   "metadata": {},
   "cell_type": "code",
   "source": [
    "plt.figure(figsize=(7,5))\n",
    "sns.countplot(x=\"type_of_violence_desc\", data=df, order=[\"State-based conflict\", \"Non-state conflict\", \"One-sided violence\"])\n",
    "plt.title(\"Distribución de eventos según tipo de violencia\")\n",
    "plt.xlabel(\"Tipo de violencia\")\n",
    "plt.ylabel(\"Cantidad de eventos\")\n",
    "plt.xticks(rotation=25)\n",
    "plt.show()"
   ],
   "id": "2347464f79b76278",
   "outputs": [],
   "execution_count": null
  },
  {
   "metadata": {},
   "cell_type": "markdown",
   "source": "### Regiones con mayor número de eventos",
   "id": "72e18aba80069e8b"
  },
  {
   "metadata": {},
   "cell_type": "code",
   "source": [
    "plt.figure(figsize=(10,5))\n",
    "top_regions = df[\"region\"].value_counts().head(10)\n",
    "sns.barplot(x=top_regions.index, y=top_regions.values, color=\"darkcyan\")\n",
    "plt.title(\"Top 10 regiones con más eventos de violencia\")\n",
    "plt.xlabel(\"Región\")\n",
    "plt.ylabel(\"Cantidad de eventos\")\n",
    "plt.xticks(rotation=45)\n",
    "plt.show()"
   ],
   "id": "2740281a42ef93a4",
   "outputs": [],
   "execution_count": null
  },
  {
   "metadata": {},
   "cell_type": "markdown",
   "source": "### Distribución geográfica",
   "id": "a80f9e8aa3c43bdb"
  },
  {
   "metadata": {},
   "cell_type": "code",
   "source": [
    "m = folium.Map(location=[20, 0], zoom_start=2)\n",
    "\n",
    "coords = df[['latitude', 'longitude', 'best']].dropna()\n",
    "\n",
    "HeatMap(coords.values.tolist(), radius=5, blur=4).add_to(m)\n",
    "\n",
    "m"
   ],
   "id": "ea10dcfb56db2190",
   "outputs": [],
   "execution_count": null
  },
  {
   "metadata": {},
   "cell_type": "markdown",
   "source": "### Distribución de víctimas fatales",
   "id": "4bd88f4aa2606d41"
  },
  {
   "metadata": {},
   "cell_type": "code",
   "source": [
    "plt.figure(figsize=(8,5))\n",
    "sns.histplot(df[\"best\"], bins=50, kde=True, color=\"salmon\")\n",
    "plt.xlim(0, 200)\n",
    "plt.title(\"Distribución de muertes estimadas por evento\")\n",
    "plt.xlabel(\"Muertes estimadas (best)\")\n",
    "plt.ylabel(\"Frecuencia\")\n",
    "plt.show()"
   ],
   "id": "15cd84c8af5b0240",
   "outputs": [],
   "execution_count": null
  },
  {
   "metadata": {},
   "cell_type": "markdown",
   "source": "### Correlación entre variables numéricas",
   "id": "e35dab91a82638ee"
  },
  {
   "metadata": {},
   "cell_type": "code",
   "source": [
    "plt.figure(figsize=(8,6))\n",
    "sns.heatmap(df[[\"deaths_a\",\"deaths_b\",\"deaths_civilians\",\"best\",\"high\",\"low\"]].corr(), annot=True, cmap=\"YlOrBr\")\n",
    "plt.title(\"Matriz de correlación entre variables de muertes\")\n",
    "plt.show()\n"
   ],
   "id": "ff66aa62f7d47bc9",
   "outputs": [],
   "execution_count": null
  }
 ],
 "metadata": {
  "kernelspec": {
   "display_name": "Python 3",
   "language": "python",
   "name": "python3"
  },
  "language_info": {
   "codemirror_mode": {
    "name": "ipython",
    "version": 2
   },
   "file_extension": ".py",
   "mimetype": "text/x-python",
   "name": "python",
   "nbconvert_exporter": "python",
   "pygments_lexer": "ipython2",
   "version": "2.7.6"
  }
 },
 "nbformat": 4,
 "nbformat_minor": 5
}
