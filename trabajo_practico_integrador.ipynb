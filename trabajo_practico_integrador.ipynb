{
 "cells": [
  {
   "metadata": {},
   "cell_type": "markdown",
   "source": "# Trabajo Práctico Integrador - Analisis de Datos",
   "id": "1eae82a48eb74628"
  },
  {
   "metadata": {},
   "cell_type": "markdown",
   "source": [
    "## Introducción\n",
    "En este trabajo práctico, aplicamos las técnicas vistas en clase con un objetivo claro: explorar, limpiar y preparar un conjunto de datos reales. El fin último es sentar las bases para plantear un problema de aprendizaje supervisado.\n",
    "\n",
    "### Nuestro Equipo:\n",
    "- Maximiliano Christener\n",
    "- Luiz Diaz Charris\n",
    "- Mariano Fagre\n",
    "- Juan Pablo Skobalski\n",
    "- Ronald Uthurralt\n",
    "\n",
    "### El Dataset:\n",
    "Para este análisis, seleccionamos el UCDP Georeferenced Event Dataset (GED) Global versión 25.1, un set de datos provisto por el Uppsala Conflict Data Program (UCDP).\n",
    "\n",
    "Elegimos este conjunto de datos por su gran detalle. Contiene información georreferenciada sobre eventos de violencia organizada que han ocurrido en todo el mundo desde 1989. Cada registro no es solo un número, sino que representa un evento violento individual, describiendo su fecha, ubicación precisa (latitud y longitud), el tipo de violencia (conflicto estatal, no estatal o unilateral), quiénes fueron los actores involucrados y una estimación de las víctimas fatales, entre otros atributos.\n",
    "\n",
    "Lo valioso de estos datos es que nos permiten explorar fenómenos muy complejos, como los conflictos armados y la violencia política, desde dos ángulos clave: temporalmente (cómo ha evolucionado la violencia) y espacialmente (dónde se concentran).\n",
    "\n",
    "## Nuestra Hipótesis y Objetivos\n",
    "Tras una primera exploración de los datos, formulamos la siguiente hipótesis de trabajo:\n",
    "\n",
    "### DISUCTAMOS SI CORRESPONDE O NO, SOLO LO ESCRIBO CON EL OBJETIVO DE ESTRUCTURAR EL DOCUMENTO\n",
    "Hipótesis: Creemos que ciertos factores estructurales, como el tipo de violencia, la región geográfica y los actores involucrados, influyen de manera significativa en el nivel de letalidad (es decir, la cantidad de víctimas fatales) de un conflicto.\n",
    "\n",
    "Basados en esta idea, nuestros objetivos para este trabajo son:\n",
    "\n",
    "1. Analizar las características generales del dataset, entendiendo su distribución tanto geográfica como temporal.\n",
    "\n",
    "2. Identificar si existen patrones de violencia claros según el tipo de evento, la región o los actores.\n",
    "\n",
    "3. Preparar el conjunto de datos para un posible modelo de aprendizaje supervisado. Aquí, nuestra variable objetivo será best_est (la cantidad estimada de víctimas), con la que buscaremos predecir la letalidad de un evento basándonos en sus características.\n",
    "\n"
   ],
   "id": "4b5242e40c26f87c"
  }
 ],
 "metadata": {
  "kernelspec": {
   "display_name": "Python 3",
   "language": "python",
   "name": "python3"
  },
  "language_info": {
   "codemirror_mode": {
    "name": "ipython",
    "version": 2
   },
   "file_extension": ".py",
   "mimetype": "text/x-python",
   "name": "python",
   "nbconvert_exporter": "python",
   "pygments_lexer": "ipython2",
   "version": "2.7.6"
  }
 },
 "nbformat": 4,
 "nbformat_minor": 5
}
